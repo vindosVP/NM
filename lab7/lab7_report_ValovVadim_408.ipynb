{
  "cells": [
    {
      "cell_type": "code",
      "execution_count": null,
      "metadata": {
        "id": "HI5zVd9nLQjy"
      },
      "outputs": [],
      "source": [
        "from main import *\n",
        "import matplotlib.pyplot as plt\n",
        "from matplotlib import cm\n",
        "from mpl_toolkits.mplot3d import Axes3D"
      ]
    },
    {
      "cell_type": "markdown",
      "metadata": {
        "id": "rHchjxHNLQj8"
      },
      "source": [
        "Input equation type:\n",
        "1. Simple Iteration Method\n",
        "2. Seidel Method\n",
        "3. Simple Iteration Method Relaxed"
      ]
    },
    {
      "cell_type": "code",
      "execution_count": null,
      "metadata": {
        "id": "fZy6SbnlLQj9",
        "outputId": "1409bc44-ecee-4091-84ee-5dbe369af22f"
      },
      "outputs": [
        {
          "name": "stdout",
          "output_type": "stream",
          "text": [
            "3\n",
            "Selected: simpleIterationMethodRelaxed\n"
          ]
        }
      ],
      "source": [
        "k = int(input())\n",
        "if k == 1:\n",
        "    equation_type = 'simpleIterationMethod'\n",
        "elif k == 2:\n",
        "    equation_type = 'seidelMethod'\n",
        "else:\n",
        "    equation_type = 'simpleIterationMethodRelaxed'\n",
        "print(f'Selected: {equation_type}')"
      ]
    },
    {
      "cell_type": "markdown",
      "metadata": {
        "id": "j9Si96pmLQkA"
      },
      "source": [
        "Input nx > 0 "
      ]
    },
    {
      "cell_type": "code",
      "execution_count": null,
      "metadata": {
        "id": "5-JwRTeQLQkB",
        "outputId": "7be3a9f8-92f3-41dc-bc09-b136ff8f339b"
      },
      "outputs": [
        {
          "name": "stdout",
          "output_type": "stream",
          "text": [
            "40\n"
          ]
        }
      ],
      "source": [
        "nx = int(input())"
      ]
    },
    {
      "cell_type": "markdown",
      "metadata": {
        "id": "vnBI3iI-LQkC"
      },
      "source": [
        "Input ny > 0 "
      ]
    },
    {
      "cell_type": "code",
      "execution_count": null,
      "metadata": {
        "id": "119P4OPYLQkE",
        "outputId": "1772d319-a5d7-4d7c-a9e7-87f98bae7d92"
      },
      "outputs": [
        {
          "name": "stdout",
          "output_type": "stream",
          "text": [
            "40\n"
          ]
        }
      ],
      "source": [
        "ny = int(input())"
      ]
    },
    {
      "cell_type": "markdown",
      "metadata": {
        "id": "0ZmlCqKNLQkF"
      },
      "source": [
        "\n",
        "\\begin{align}\n",
        "    \\frac {\\partial^2{u}} {\\partial{x^2}} + \\frac {\\partial^2{u}} {\\partial{y^2}} = -2u, \\\\\n",
        "U(0, y) = cos(y), \\\\\n",
        "U(\\frac {\\pi} {2}, y) = 0, \\\\\n",
        "U(x, 0) = cos(x), \\\\\n",
        "U(x, \\frac {\\pi} {2}) = 0\n",
        "\\end{align}"
      ]
    },
    {
      "cell_type": "markdown",
      "metadata": {
        "id": "EbnkvpVwLQkG"
      },
      "source": [
        "Аналитическое решение:\n",
        "\\begin{align}\n",
        "U(x, y) = cos(x) \\cdot cos(y)\n",
        "\\end{align}"
      ]
    },
    {
      "cell_type": "code",
      "execution_count": null,
      "metadata": {
        "id": "tyJvkuJJLQkH"
      },
      "outputs": [],
      "source": [
        "params = {\n",
        "    'a': 0,\n",
        "    'b': 0,\n",
        "    'c': 2,\n",
        "    'd': 1,\n",
        "    'lx': np.pi / 2,\n",
        "    'ly': np.pi / 2,\n",
        "    'w': 1.5,\n",
        "    'f': lambda x, y: 0,\n",
        "    'alpha1': 0,\n",
        "    'alpha2': 1,\n",
        "    'beta1': 0,\n",
        "    'beta2': 1,\n",
        "    'gamma1': 0,\n",
        "    'gamma2': 1,\n",
        "    'delta1': 0,\n",
        "    'delta2': 1,\n",
        "    'phi1': lambda y: np.cos(y),\n",
        "    'phi2': lambda y: 0,\n",
        "    'phi3': lambda x: np.cos(x),\n",
        "    'phi4': lambda x: 0,\n",
        "    'solution': lambda x, y: np.cos(x) * np.cos(y),\n",
        "}"
      ]
    },
    {
      "cell_type": "code",
      "execution_count": null,
      "metadata": {
        "id": "-jSlqc1XLQkI"
      },
      "outputs": [],
      "source": [
        "solver = ElepticalSolver(params, equation_type)"
      ]
    },
    {
      "cell_type": "code",
      "execution_count": null,
      "metadata": {
        "id": "504ysTI5LQkJ"
      },
      "outputs": [],
      "source": [
        "solved = solver.solve(nx, ny)\n",
        "ans = {\n",
        "    'numerical': solved[0],\n",
        "    'iterations': solved[1],\n",
        "    'analytic': solver.analyticSolve(nx, ny)\n",
        "}"
      ]
    },
    {
      "cell_type": "code",
      "execution_count": null,
      "metadata": {
        "id": "k2eR3nMALQkK",
        "outputId": "4b4fb4b0-75d4-470a-ae5e-a86946bc41cc"
      },
      "outputs": [
        {
          "name": "stdout",
          "output_type": "stream",
          "text": [
            "Done at iterations: 553\n"
          ]
        }
      ],
      "source": [
        "\n",
        "print('Iterations:',ans['iterations'])\n"
      ]
    },
    {
      "cell_type": "code",
      "execution_count": null,
      "metadata": {
        "id": "QKORDVaSLQkL"
      },
      "outputs": [],
      "source": [
        "def draw_u_x(dict_, nx, ny, time, save_file=\"plot_u_x.png\"):\n",
        "    fig = plt.figure()\n",
        "    x = np.arange(0, np.pi / 2 + np.pi / 2 / nx, np.pi / 2 / nx)\n",
        "    y = np.arange(0, np.pi / 2 + np.pi / 2 / ny, np.pi / 2 / ny)\n",
        "    z1 = np.array(dict_['numerical'])\n",
        "    z2 = np.array(dict_['analytic'])\n",
        "    \n",
        "\n",
        "    plt.title('U from x')\n",
        "    plt.plot(x, z1[time], color='r', label='numerical')\n",
        "    plt.plot(x, z2[time], color='b', label='analytic')\n",
        "    plt.legend(loc='best')\n",
        "    plt.ylabel('U')\n",
        "    plt.xlabel('x')\n",
        "    plt.savefig(save_file)\n",
        "    plt.show()\n",
        "    \n",
        "    err = []\n",
        "    for i in range(len(z1)):\n",
        "        err.append(compareError(z1[i], z2[i]))\n",
        "    plt.title('Error from y')\n",
        "    plt.plot(y, err, color='b', label='err')\n",
        "    plt.legend(loc='best')\n",
        "    plt.ylabel('Err')\n",
        "    plt.xlabel('t')\n",
        "    plt.savefig('err.png')\n",
        "    plt.show()"
      ]
    },
    {
      "cell_type": "markdown",
      "metadata": {
        "id": "GqxTGLcyLQkM"
      },
      "source": [
        "Time check"
      ]
    },
    {
      "cell_type": "code",
      "execution_count": null,
      "metadata": {
        "id": "v1Ok8bTPLQkN",
        "outputId": "1ca357e4-1f0b-4160-fa5d-f1b1f8ed8d65"
      },
      "outputs": [
        {
          "name": "stdout",
          "output_type": "stream",
          "text": [
            "Select time from 0 to 39\n",
            "0\n"
          ]
        }
      ],
      "source": [
        "print(f'Select time from 0 to {nx - 1}')\n",
        "curr_time = int(input())"
      ]
    },
    {
      "cell_type": "code",
      "execution_count": null,
      "metadata": {
        "id": "ewAhxxxCLQkN",
        "outputId": "7bb5bfc7-1443-4a2a-f87c-d83d7d17b709"
      },
      "outputs": [
        {
          "data": {
            "image/png": "[encoded data removed]",
            "text/plain": [
              "<Figure size 432x288 with 1 Axes>"
            ]
          },
          "metadata": {
            "needs_background": "light"
          },
          "output_type": "display_data"
        },
        {
          "data": {
            "image/png": "[encoded data removed]",
            "text/plain": [
              "<Figure size 432x288 with 1 Axes>"
            ]
          },
          "metadata": {
            "needs_background": "light"
          },
          "output_type": "display_data"
        }
      ],
      "source": [
        "draw_u_x(ans, nx, ny, curr_time)"
      ]
    }
  ],
  "metadata": {
    "kernelspec": {
      "display_name": "Python 3",
      "language": "python",
      "name": "python3"
    },
    "language_info": {
      "codemirror_mode": {
        "name": "ipython",
        "version": 3
      },
      "file_extension": ".py",
      "mimetype": "text/x-python",
      "name": "python",
      "nbconvert_exporter": "python",
      "pygments_lexer": "ipython3",
      "version": "3.7.3"
    },
    "colab": {
      "name": "lab7_report_ValovVadim_408.ipynb",
      "provenance": []
    }
  },
  "nbformat": 4,
  "nbformat_minor": 0
}
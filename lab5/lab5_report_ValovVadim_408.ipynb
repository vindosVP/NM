{
  "cells": [
    {
      "cell_type": "code",
      "execution_count": null,
      "metadata": {
        "id": "Q-VOIzzRJQwZ"
      },
      "outputs": [],
      "source": [
        "from main import *\n",
        "import matplotlib.pyplot as plt\n",
        "from matplotlib import cm\n",
        "from mpl_toolkits.mplot3d import Axes3D"
      ]
    },
    {
      "cell_type": "markdown",
      "metadata": {
        "id": "PGy6kTcWJQwk"
      },
      "source": [
        "Equation type "
      ]
    },
    {
      "cell_type": "code",
      "execution_count": null,
      "metadata": {
        "id": "xC_hVxwdJQwl",
        "outputId": "a698b4a9-530e-4a5a-8142-eae5229d1861"
      },
      "outputs": [
        {
          "name": "stdout",
          "output_type": "stream",
          "text": [
            "implicit\n"
          ]
        }
      ],
      "source": [
        "equation_type = str(input())"
      ]
    },
    {
      "cell_type": "markdown",
      "metadata": {
        "id": "ZeXrcwJdJQwo"
      },
      "source": [
        "Input N > 0 "
      ]
    },
    {
      "cell_type": "code",
      "execution_count": null,
      "metadata": {
        "id": "Vz1LJBDIJQwo",
        "outputId": "30b96852-9297-4584-be41-e85bc7cbd087"
      },
      "outputs": [
        {
          "name": "stdout",
          "output_type": "stream",
          "text": [
            "24\n"
          ]
        }
      ],
      "source": [
        "N = int(input())"
      ]
    },
    {
      "cell_type": "markdown",
      "metadata": {
        "id": "h8yLJoYVJQwq"
      },
      "source": [
        "\n",
        "\n",
        "\n",
        "\n",
        "Input K > 0 "
      ]
    },
    {
      "cell_type": "code",
      "execution_count": null,
      "metadata": {
        "id": "nAv_gcx7JQws",
        "outputId": "256a4c65-548b-469b-92f4-2695d48e829a"
      },
      "outputs": [
        {
          "name": "stdout",
          "output_type": "stream",
          "text": [
            "800\n"
          ]
        }
      ],
      "source": [
        "K = int(input())"
      ]
    },
    {
      "cell_type": "markdown",
      "metadata": {
        "id": "L8OG75ApJQwt"
      },
      "source": [
        "Input T > 0"
      ]
    },
    {
      "cell_type": "code",
      "execution_count": null,
      "metadata": {
        "id": "sADeZCkXJQwv",
        "outputId": "e7d6a3d2-5959-4958-c47f-8964d31964d5"
      },
      "outputs": [
        {
          "name": "stdout",
          "output_type": "stream",
          "text": [
            "18\n"
          ]
        }
      ],
      "source": [
        "T = int(input())"
      ]
    },
    {
      "cell_type": "markdown",
      "metadata": {
        "id": "JNl-7t40JQww"
      },
      "source": [
        "\n",
        "\\begin{align}\n",
        "\\frac {\\partial{u}} {\\partial{t}} = \\frac {\\partial ^ 2 {u}} {\\partial{x^2}} + 0.5 \\cdot exp(-0.5t) \\cdot cos(x), \\\\\n",
        "U_x(0, t) = exp(-0.5t), \\\\\n",
        "U_x(\\frac {\\pi} {2}, t) = -exp(-0.5t), \\\\\n",
        "U(x, 0) = sin(x)\n",
        "\\end{align}"
      ]
    },
    {
      "cell_type": "markdown",
      "metadata": {
        "id": "uxOTCU_rJQwx"
      },
      "source": [
        "Аналитическое решение:\n",
        "\\begin{align}\n",
        "U(x, t) = exp(-0.5t) \\cdot sin(x)\n",
        "\\end{align}"
      ]
    },
    {
      "cell_type": "code",
      "execution_count": null,
      "metadata": {
        "id": "958W-b6nJQwy"
      },
      "outputs": [],
      "source": [
        "params = {\n",
        "    'l': np.pi,\n",
        "    'psi':  lambda x: np.sin(x),\n",
        "    'f':    lambda x, t: 0.5 * np.exp(-0.5 * t) * np.cos(x),\n",
        "    'phi0': lambda t: np.exp(-0.5 * t),\n",
        "    'phi1': lambda t: -np.exp(-0.5 * t),\n",
        "    'solution': lambda x, t: np.exp(-0.5 * t) * np.sin(x),\n",
        "    'bound_type': 'a1p1',\n",
        "}"
      ]
    },
    {
      "cell_type": "markdown",
      "metadata": {
        "id": "pNg6aIvBJQwz"
      },
      "source": [
        "Input type of approximation:\n",
        "1. 2 point first degree\n",
        "2. 2 point second degree\n",
        "3. 3 point second degree"
      ]
    },
    {
      "cell_type": "code",
      "execution_count": null,
      "metadata": {
        "id": "C1aU3XqJJQw0",
        "outputId": "2e931ce0-69a0-4d17-9211-cb496fc30788"
      },
      "outputs": [
        {
          "name": "stdout",
          "output_type": "stream",
          "text": [
            "1\n"
          ]
        }
      ],
      "source": [
        "aprox = int(input())\n",
        "if (aprox == 1):\n",
        "    params['bound_type'] = 'a1p1'\n",
        "elif (aprox == 2):\n",
        "    params['bound_type'] = 'a1p2'\n",
        "else:\n",
        "    params['bound_type'] = 'a1p3'"
      ]
    },
    {
      "cell_type": "code",
      "execution_count": null,
      "metadata": {
        "id": "dN-3Gx3aJQw0"
      },
      "outputs": [],
      "source": [
        "solver = ParabolicSolver(params, equation_type)"
      ]
    },
    {
      "cell_type": "code",
      "execution_count": null,
      "metadata": {
        "id": "sm754vwKJQw1"
      },
      "outputs": [],
      "source": [
        "dict_ans = {\n",
        "        'numerical': solver.solve(N, K, T).tolist(),\n",
        "        'analytic': solver.analyticSolve(N, K, T).tolist()\n",
        "    }"
      ]
    },
    {
      "cell_type": "code",
      "execution_count": null,
      "metadata": {
        "id": "PH2S0wVHJQw1",
        "outputId": "083f8129-fe50-49b2-a5a0-dfe3b78d4ac1"
      },
      "outputs": [
        {
          "name": "stdout",
          "output_type": "stream",
          "text": [
            "Sigma:  1.3131225400046977\n"
          ]
        }
      ],
      "source": [
        "print(\"Sigma: \",solver.sigma)"
      ]
    },
    {
      "cell_type": "code",
      "execution_count": null,
      "metadata": {
        "id": "DNFIyA3VJQw2"
      },
      "outputs": [],
      "source": [
        "def draw(dict_, N, K, T, save_file=\"plot.png\"):\n",
        "    fig = plt.figure(figsize=plt.figaspect(0.3))\n",
        "    # Make data\n",
        "    x = np.arange(0, np.pi / 2, np.pi / 2 / N)\n",
        "    t = np.arange(0, T, T / K)\n",
        "    x, t = np.meshgrid(x, t)\n",
        "    z1 = np.array(dict_['numerical'])\n",
        "    z2 = np.array(dict_['analytic'])\n",
        "\n",
        "    # Plot the surface.\n",
        "    ax = fig.add_subplot(1, 2, 1, projection='3d')\n",
        "    plt.title('numerical')\n",
        "    ax.set_xlabel('x', fontsize=20)\n",
        "    ax.set_ylabel('t', fontsize=20)\n",
        "    ax.set_zlabel('u', fontsize=20)\n",
        "    ax.plot_surface(x, t, z1, cmap=cm.coolwarm,\n",
        "                    linewidth=0, antialiased=True)\n",
        "\n",
        "    ax = fig.add_subplot(1, 2, 2, projection='3d')\n",
        "    ax.set_xlabel('x', fontsize=20)\n",
        "    ax.set_ylabel('t', fontsize=20)\n",
        "    ax.set_zlabel('u', fontsize=20)\n",
        "    plt.title('analytic')\n",
        "    surf = ax.plot_surface(x, t, z2, cmap=cm.coolwarm,\n",
        "                           linewidth=0, antialiased=True)\n",
        "    # # Customize the z axis\n",
        "    # ax.set_zlim(-1.01, 1.01)\n",
        "\n",
        "    # # Add a color bar which maps values to colors.\n",
        "    fig.colorbar(surf, shrink=0.5, aspect=15)\n",
        "\n",
        "    plt.savefig(save_file)\n",
        "    plt.show()"
      ]
    },
    {
      "cell_type": "code",
      "execution_count": null,
      "metadata": {
        "id": "oKHH0NmYJQw3",
        "outputId": "fc2e1acd-4db8-4e3a-e596-061bfc00e0fc"
      },
      "outputs": [
        {
          "data": {
            "image/png": "[encoded data removed]",
            "text/plain": [
              "<Figure size 411.429x288 with 3 Axes>"
            ]
          },
          "metadata": {
            "needs_background": "light"
          },
          "output_type": "display_data"
        }
      ],
      "source": [
        "draw(dict_ans, N, K, T)"
      ]
    },
    {
      "cell_type": "code",
      "execution_count": null,
      "metadata": {
        "id": "33uLoODQJQw4"
      },
      "outputs": [],
      "source": [
        "def draw_u_x(dict_, N, K, T, time=0, save_file=\"plot_u_x.png\"):\n",
        "    fig = plt.figure()\n",
        "    x = np.arange(0, np.pi / 2, np.pi / 2 / N)\n",
        "    t = np.arange(0, T, T / K)\n",
        "    z1 = np.array(dict_['numerical'])\n",
        "    z2 = np.array(dict_['analytic'])\n",
        "    \n",
        "\n",
        "    plt.title('U from x')\n",
        "    plt.plot(x[0:-2], z1[time][0:-2], color='r', label='numerical')\n",
        "    plt.plot(x[0:-2], z2[time][0:-2], color='b', label='analytic')\n",
        "    plt.legend(loc='best')\n",
        "    plt.ylabel('U')\n",
        "    plt.xlabel('x')\n",
        "    plt.savefig(save_file)\n",
        "    plt.show()\n",
        "    \n",
        "    err = []\n",
        "    error = compare_error(dict_ans)\n",
        "    for i in range(len(error)):\n",
        "        tmp = 0\n",
        "        for j in error[i]:\n",
        "            tmp += j\n",
        "        err.append(tmp/len(error[i])/1000)\n",
        "    plt.title('Error from t')\n",
        "    plt.plot(t, err, color='b', label='err')\n",
        "    plt.legend(loc='best')\n",
        "    plt.ylabel('Err')\n",
        "    plt.xlabel('t')\n",
        "    plt.savefig('err.png')\n",
        "    plt.show()"
      ]
    },
    {
      "cell_type": "code",
      "execution_count": null,
      "metadata": {
        "id": "n-1wK9vPJQw5",
        "outputId": "fa13a736-f5a9-4e1b-c9f3-3ab6a78594b5"
      },
      "outputs": [
        {
          "name": "stdout",
          "output_type": "stream",
          "text": [
            "0\n"
          ]
        }
      ],
      "source": [
        "curr_time = int(input())"
      ]
    },
    {
      "cell_type": "code",
      "execution_count": null,
      "metadata": {
        "id": "tbK5pKXRJQw5",
        "outputId": "d83b26d4-202e-4064-972c-15e5bbd579f2"
      },
      "outputs": [
        {
          "data": {
            "image/png": "[encoded data removed]",
            "text/plain": [
              "<Figure size 432x288 with 1 Axes>"
            ]
          },
          "metadata": {
            "needs_background": "light"
          },
          "output_type": "display_data"
        },
        {
          "data": {
            "image/png": "[encoded data removed]",
            "text/plain": [
              "<Figure size 432x288 with 1 Axes>"
            ]
          },
          "metadata": {
            "needs_background": "light"
          },
          "output_type": "display_data"
        }
      ],
      "source": [
        "draw_u_x(dict_ans, N, K, T, curr_time)"
      ]
    },
    {
      "cell_type": "code",
      "execution_count": null,
      "metadata": {
        "id": "au9FJzYyJQw6"
      },
      "outputs": [],
      "source": [
        "error = compare_error(dict_ans)\n",
        "avg_err = 0.0\n",
        "for i in error:\n",
        "    for j in i:\n",
        "        avg_err += j\n",
        "    avg_err /= N"
      ]
    },
    {
      "cell_type": "markdown",
      "metadata": {
        "id": "84SKjQXoJQw6"
      },
      "source": [
        "First elements in error array:"
      ]
    },
    {
      "cell_type": "code",
      "execution_count": null,
      "metadata": {
        "id": "04K1lCTUJQw6",
        "outputId": "184baa19-631f-421b-91eb-b630a4e517ad"
      },
      "outputs": [
        {
          "name": "stdout",
          "output_type": "stream",
          "text": [
            "[0.0, 0.0, 0.0, 0.0, 0.0, 0.0, 0.0, 0.0, 0.0, 0.0, 0.0, 0.0, 0.0, 0.0, 0.0, 0.0, 0.0, 0.0, 0.0, 0.0, 0.0, 0.0, 0.0, 0.130526192220052]\n"
          ]
        }
      ],
      "source": [
        "print(error[0])"
      ]
    },
    {
      "cell_type": "markdown",
      "metadata": {
        "id": "QGmjCK2SJQw7"
      },
      "source": [
        "Middle elements in error array:"
      ]
    },
    {
      "cell_type": "code",
      "execution_count": null,
      "metadata": {
        "id": "pkNFEwpSJQw7",
        "outputId": "cb3ebc17-9b2a-45f4-ff7e-5f47c1fff9f3"
      },
      "outputs": [
        {
          "name": "stdout",
          "output_type": "stream",
          "text": [
            "[0.15004323820867924, 0.15003908897981438, 0.14936905048260124, 0.14802353229739648, 0.1459959414158312, 0.14328297214661226, 0.1398848734691995, 0.13580568803885318, 0.1310534574451474, 0.12564038882426248, 0.11958297851440504, 0.11290208911315253, 0.10562297703359104, 0.09777526844980879, 0.08939288235767477, 0.0805139003391925, 0.071180383492943, 0.06143813786389161, 0.05133643055787989, 0.040927659544548405, 0.030266980922935578, 0.019411898133123107, 0.008421818232685858, 0.002642419092700911]\n"
          ]
        }
      ],
      "source": [
        "print(error[int(K/2)])"
      ]
    },
    {
      "cell_type": "markdown",
      "metadata": {
        "id": "WxWUO3yZJQw7"
      },
      "source": [
        "Last elements in error array:"
      ]
    },
    {
      "cell_type": "code",
      "execution_count": null,
      "metadata": {
        "id": "3wis0Se_JQw8",
        "outputId": "dc51f81a-2be8-4964-ca14-3e4ea4eb5d36"
      },
      "outputs": [
        {
          "name": "stdout",
          "output_type": "stream",
          "text": [
            "[0.012334146727334022, 0.012334100112082183, 0.012272310337819916, 0.012148946166527067, 0.011964485133377644, 0.0117197139928831, 0.011415727524155636, 0.011053925651563613, 0.010636008848490695, 0.010163971804324615, 0.009640095348056793, 0.009066936635819759, 0.00844731762416014, 0.007784311865663499, 0.007081229678526632, 0.006341601756619593, 0.005569161301297136, 0.00476782477051005, 0.0039416713544368955, 0.003094921299717477, 0.0022319132162416586, 0.001357080511163347, 0.00047492710421674275, 0.00040999741362547854]\n"
          ]
        }
      ],
      "source": [
        "print(error[-1])"
      ]
    },
    {
      "cell_type": "code",
      "execution_count": null,
      "metadata": {
        "id": "Cw9kBl9eJQw8",
        "outputId": "60f77569-8a6a-48fb-df9f-b1947e95fd80"
      },
      "outputs": [
        {
          "name": "stdout",
          "output_type": "stream",
          "text": [
            "Average error in each N: 0.008100242309372108\n"
          ]
        }
      ],
      "source": [
        "print(f'Average error in each N: {avg_err}')"
      ]
    },
    {
      "cell_type": "code",
      "execution_count": null,
      "metadata": {
        "id": "U0STsmkQJQw8",
        "outputId": "d61fd0b6-8773-4aa6-ade7-05fbb99d3026"
      },
      "outputs": [
        {
          "name": "stdout",
          "output_type": "stream",
          "text": [
            "Average error\t\t: 1.0125302886715135e-05\n"
          ]
        }
      ],
      "source": [
        "print(f'Average error\\t\\t: {avg_err / K}')"
      ]
    }
  ],
  "metadata": {
    "kernelspec": {
      "display_name": "Python 3",
      "language": "python",
      "name": "python3"
    },
    "language_info": {
      "codemirror_mode": {
        "name": "ipython",
        "version": 3
      },
      "file_extension": ".py",
      "mimetype": "text/x-python",
      "name": "python",
      "nbconvert_exporter": "python",
      "pygments_lexer": "ipython3",
      "version": "3.7.3"
    },
    "colab": {
      "name": "lab5_report.ipynb",
      "provenance": []
    }
  },
  "nbformat": 4,
  "nbformat_minor": 0
}